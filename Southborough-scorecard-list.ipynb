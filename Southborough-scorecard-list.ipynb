{
 "cells": [
  {
   "cell_type": "code",
   "execution_count": 1,
   "metadata": {},
   "outputs": [],
   "source": [
    "import selenium, openpyxl, shutil, os, time\n",
    "from selenium import webdriver"
   ]
  },
  {
   "cell_type": "code",
   "execution_count": null,
   "metadata": {},
   "outputs": [],
   "source": []
  },
  {
   "cell_type": "code",
   "execution_count": 2,
   "metadata": {},
   "outputs": [],
   "source": [
    "def user_inputs():\n",
    "    print('Enter Play-Cricket login email.')\n",
    "    email_input = input()\n",
    "    print('Enter Play-Cricket login password.')\n",
    "    pwd_input = input()\n",
    "    print('Enter start and end dates in format dd/mm/yyyy. The two dates must be less than 1 year apart.')\n",
    "    print('Start date:')\n",
    "    startdate = input()\n",
    "    print('End date:')\n",
    "    enddate = input()\n",
    "    return email_input, pwd_input, startdate, enddate"
   ]
  },
  {
   "cell_type": "code",
   "execution_count": 3,
   "metadata": {},
   "outputs": [],
   "source": [
    "def results_worksheet_download(email_input, pwd_input, startdate, enddate):\n",
    "    driver = webdriver.Chrome('C:/Users/philc/Documents/Python/chromedriver.exe')\n",
    "    driver.get('https://southboroughcc.play-cricket.com/')\n",
    "\n",
    "    link = driver.find_element_by_xpath('//*[@id=\"cookieaccept\"]/div/div/div/div/button')\n",
    "    link.click()\n",
    "\n",
    "    login_link = driver.find_element_by_xpath('/html/body/div[2]/div/div[3]/ul/li[1]/a')\n",
    "    login_link.click()\n",
    "\n",
    "    driver.implicitly_wait(10)\n",
    "\n",
    "    email_link = driver.find_element_by_xpath('//*[@id=\"main\"]/form/div[1]/input')\n",
    "    email_link.send_keys(email_input)\n",
    "\n",
    "    pwd_link = driver.find_element_by_xpath('//*[@id=\"main\"]/form/div[2]/input')\n",
    "    pwd_link.send_keys(pwd_input)\n",
    "\n",
    "    link = driver.find_element_by_xpath('//*[@id=\"main\"]/form/div[4]/input')\n",
    "    link.click()\n",
    "\n",
    "    driver.get('https://southboroughcc.play-cricket.com/site_admin/results')\n",
    "    startdate_link = driver.find_element_by_xpath('//*[@id=\"q_match_date_gteq\"]')\n",
    "    startdate_link.clear()\n",
    "    startdate_link.send_keys(startdate)\n",
    "    enddate_link = driver.find_element_by_xpath('//*[@id=\"q_match_date_lteq\"]')\n",
    "    enddate_link.clear()\n",
    "    enddate_link.send_keys(enddate)\n",
    "    link = driver.find_element_by_xpath('//*[@id=\"match_search\"]/div/table/tbody/tr[4]/td[2]/input')\n",
    "    link.click()\n",
    "    link = driver.find_element_by_xpath('//*[@id=\"match_search\"]/div/table/tbody/tr[4]/td[3]/a')\n",
    "    link.click()\n",
    "\n",
    "\n"
   ]
  },
  {
   "cell_type": "code",
   "execution_count": 4,
   "metadata": {},
   "outputs": [],
   "source": [
    "def move_fixturedownload(startdate, enddate):\n",
    "    startdate = startdate.replace(\"/\", \"\")\n",
    "    enddate = enddate.replace(\"/\", \"\")\n",
    "    name = 'download_results_' + startdate + '_' + enddate + '.xlsx'\n",
    "    shutil.move('C:/Users/philc/Downloads/download_results.xlsx','C:/Users/philc/Documents/Python/Southborough stats/Southborough-CC-Stats/download_results.xlsx')\n",
    "    os.rename('download_results.xlsx', name)"
   ]
  },
  {
   "cell_type": "code",
   "execution_count": 5,
   "metadata": {},
   "outputs": [],
   "source": [
    "def FixtureID_extract(startdate, enddate):\n",
    "    startdate = startdate.replace(\"/\", \"\")\n",
    "    enddate = enddate.replace(\"/\", \"\")\n",
    "    name = 'download_results_' + startdate + '_' + enddate + '.xlsx'\n",
    "    wb = openpyxl.load_workbook(name)\n",
    "    sheet = wb['Results']\n",
    "\n",
    "    FixtureIDs = []\n",
    "    for cellObj in list(sheet.columns)[13]:\n",
    "        if type(cellObj.value) == int:\n",
    "            FixtureIDs.append(cellObj.value)\n",
    "    return FixtureIDs"
   ]
  },
  {
   "cell_type": "code",
   "execution_count": 6,
   "metadata": {},
   "outputs": [
    {
     "name": "stdout",
     "output_type": "stream",
     "text": [
      "Enter Play-Cricket login email.\n",
      "philcodavis@googlemail.com\n",
      "Enter Play-Cricket login password.\n",
      "Philiptest123\n",
      "Enter start and end dates in format dd/mm/yyyy. The two dates must be less than 1 year apart.\n",
      "Start date:\n",
      "01/02/2018\n",
      "End date:\n",
      "01/11/2018\n",
      "[3268719, 3268682, 3268699, 3268644, 3268665, 3336822, 3268607, 3268626, 3701700, 3268566, 3268590, 3699811, 3268533, 3268549, 3698585, 3268492, 3268516, 3589060, 3347838, 3268455, 3268479, 3268422, 3268440, 3589066, 3688355, 3268385, 3268345, 3268368, 3590206, 3589063, 3399447, 3268311, 3268327, 3590247, 3268272, 3268294, 3590215, 3682756, 3268237, 3268255, 3589070, 3268198, 3268220, 3590218, 3589062, 3268162, 3268182, 3590205, 3589053, 3674025, 3268125, 3268145, 3668869, 3268086, 3268108, 3664314, 3585549, 3665746]\n"
     ]
    }
   ],
   "source": [
    "email_input, pwd_input, startdate, enddate = user_inputs()\n",
    "results_worksheet_download(email_input, pwd_input, startdate, enddate)\n",
    "time.sleep(5)\n",
    "move_fixturedownload(startdate, enddate)\n",
    "FixtureIDs = FixtureID_extract(startdate, enddate)\n",
    "print(FixtureIDs)"
   ]
  },
  {
   "cell_type": "code",
   "execution_count": null,
   "metadata": {},
   "outputs": [],
   "source": []
  }
 ],
 "metadata": {
  "kernelspec": {
   "display_name": "Python 3",
   "language": "python",
   "name": "python3"
  },
  "language_info": {
   "codemirror_mode": {
    "name": "ipython",
    "version": 3
   },
   "file_extension": ".py",
   "mimetype": "text/x-python",
   "name": "python",
   "nbconvert_exporter": "python",
   "pygments_lexer": "ipython3",
   "version": "3.8.3"
  }
 },
 "nbformat": 4,
 "nbformat_minor": 4
}
